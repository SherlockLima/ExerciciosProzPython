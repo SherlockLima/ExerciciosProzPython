{
  "nbformat": 4,
  "nbformat_minor": 0,
  "metadata": {
    "colab": {
      "provenance": [],
      "include_colab_link": true
    },
    "kernelspec": {
      "name": "python3",
      "display_name": "Python 3"
    },
    "language_info": {
      "name": "python"
    }
  },
  "cells": [
    {
      "cell_type": "markdown",
      "metadata": {
        "id": "view-in-github",
        "colab_type": "text"
      },
      "source": [
        "<a href=\"https://colab.research.google.com/github/SherlockLima/Exercises_Proz_portalTech/blob/main/gerenciamento_de_estoque.ipynb\" target=\"_parent\"><img src=\"https://colab.research.google.com/assets/colab-badge.svg\" alt=\"Open In Colab\"/></a>"
      ]
    },
    {
      "cell_type": "markdown",
      "source": [
        "#Prática Guiada\n",
        "Função que verifica se um array tem determinado elemento:"
      ],
      "metadata": {
        "id": "OYH7J-oiV5PK"
      }
    },
    {
      "cell_type": "code",
      "execution_count": null,
      "metadata": {
        "id": "URYuAFE1T0Nq"
      },
      "outputs": [],
      "source": [
        "def achar_elemento(elem, arr):\n",
        "  achou = False\n",
        "\n",
        "  for i in range(len(arr)):\n",
        "    if arr[i] == elem:\n",
        "      achou = True\n",
        "\n",
        "  if(achou == False):\n",
        "    print(\"Não achamos o nome: \" + elem)\n",
        "  else:\n",
        "    print(\"Achamos o nome: \" + elem)\n",
        "  \n",
        "nomes = [\"Rafael\", \"Arthur\", \"Karen\", \"Julia\"]\n",
        "achar_elemento(\"João\", nomes)"
      ]
    },
    {
      "cell_type": "markdown",
      "source": [
        "Ampliação / desafío:"
      ],
      "metadata": {
        "id": "J2RvRUM-XZa2"
      }
    },
    {
      "cell_type": "code",
      "source": [
        "def achar_elemento(elem, arr):\n",
        "  achou = False\n",
        "\n",
        "  for i in range(len(arr)):\n",
        "    if arr[i] == elem:\n",
        "      achou = True\n",
        "\n",
        "  if(achou == False):\n",
        "    print(\"Não achamos o nome: \" + elem)\n",
        "  else:\n",
        "    print(\"Achamos o nome: \" , elem, \" na posição \", len(elem))\n",
        "  \n",
        "nomes = [\"Rafael\", \"Arthur\", \"Karen\", \"Julia\"]\n",
        "achar_elemento(input('Insira um nome para procurar na lista: '), nomes)"
      ],
      "metadata": {
        "id": "rEFT7-eZXXwJ",
        "colab": {
          "base_uri": "https://localhost:8080/"
        },
        "outputId": "301d006e-984d-40cc-adc8-95403b601a67"
      },
      "execution_count": 23,
      "outputs": [
        {
          "output_type": "stream",
          "name": "stdout",
          "text": [
            "Insira um nome para procurar na lista: Karen\n",
            "Achamos o nome:  Karen  na posição  5\n"
          ]
        }
      ]
    },
    {
      "cell_type": "markdown",
      "source": [
        "#PBL: Sistema de estoque"
      ],
      "metadata": {
        "id": "Cp5-vNSmfZfL"
      }
    },
    {
      "cell_type": "markdown",
      "source": [
        "“Boa tarde, \n",
        "Estamos modernizando nossa loja e precisamos de um novo sistema de controle de estoque. Geralmente anotamos todos os produtos que temos disponíveis, e quando um dos produtos acaba, substituímos ele por algum outro produto.\n",
        "\n",
        "\n",
        "Ouvi dizer que vocês podem fazer um sistema para a gente que mostra a lista com todos nossos produtos, e nos deixa alterar um produto por outro. \n",
        "\n",
        "\n",
        "Além disso, estamos pensando em ampliar nosso armazém, para ter mais espaço para mais produtos. Então, se puderem fazer com que o sistema nos permita adicionar mais produtos à lista, e qualquer outra coisa que acharem necessário, seria muito bom. \n",
        " \n",
        "Desde já agradeço!”\n",
        "\n",
        "1 - Exibir a lista de itens disponíveis\n",
        "2 - Permitir a substituição\n",
        "3 - Permitir a adição"
      ],
      "metadata": {
        "id": "HHQ-N2zrkn3N"
      }
    },
    {
      "cell_type": "code",
      "source": [
        "listaDeProdutos = [\"laranja\", \"banana\", \"maçã\", \"pera\"]\n",
        "print( \"Bem vindo ao estoque de produto o que você deseja: \")\n",
        "def estoque ():\n",
        "  menu = True\n",
        "  opcao = str(input(\"\\n 1. Verificar os itens disponíveis no estoque \\n 2. trocar um item do estoque por outro \\n 3 Adição de um item no estoque \\n 4. Sair \\n\"))\n",
        "  while( menu == True):\n",
        "\n",
        "    if(opcao == \"1\"):\n",
        "      print(listaDeProdutos)\n",
        "      opcao = str(input(\"\\n 1. Verificar os itens disponíveis no estoque \\n 2. trocar um item do estoque por outro \\n 3 Adição de um item no estoque \\n 4. Sair \\n\"))\n",
        "    \n",
        "    elif(opcao == \"2\"):\n",
        "      itemAntigo = input(\"Qual item você deseja substituir? \\n\") \n",
        "      itemNovo = input(\"Qual o novo item? \\n\")\n",
        "      print(\"\\n O item foi substituido com sucesso! \\n\")\n",
        "      \n",
        "      if itemAntigo in listaDeProdutos:\n",
        "        index = listaDeProdutos.index(itemAntigo)\n",
        "        listaDeProdutos[index] = itemNovo \n",
        "      print(\"Item substituído com sucesso.\\n\")\n",
        "      opcao = str(input(\"\\n 1. Verificar os itens disponíveis no estoque \\n 2. trocar um item do estoque por outro \\n 3 Adição de um item no estoque \\n 4. Sair \\n\"))\n",
        "    \n",
        "    elif(opcao == \"3\"):\n",
        "      listaDeProdutos.append(input(\"Qual produto você deseja adicionar no estoque: \\n\"))\n",
        "      print(\"\\n O item foi adicionado com sucesso! \\n\")\n",
        "      opcao = str(input(\"\\n 1. Verificar os itens disponíveis no estoque \\n 2. trocar um item do estoque por outro \\n 3 Adição de um item no estoque \\n 4. Sair \\n\"))\n",
        "    elif (opcao == \"4\"):\n",
        "      print(\"Encerrando...\")\n",
        "      menu = False\n",
        "    else:\n",
        "      print(\"\\n produto não encontrado, por favor insira um produto válido!\")\n",
        "      opcao = str(input(\"\\n 1. Verificar os itens disponíveis no estoque \\n 2. trocar um item do estoque por outro \\n 3 Adição de um item no estoque \\n 4. Sair \\n\"))\n",
        "estoque()\n",
        "    \n"
      ],
      "metadata": {
        "id": "dDE3Wkscfc18",
        "colab": {
          "base_uri": "https://localhost:8080/"
        },
        "outputId": "92834c68-b24e-41ee-8cef-d20dfd1aab78"
      },
      "execution_count": null,
      "outputs": [
        {
          "output_type": "stream",
          "name": "stdout",
          "text": [
            "Bem vindo ao estoque de produto o que você deseja: \n"
          ]
        }
      ]
    },
    {
      "cell_type": "markdown",
      "source": [
        "Com feature de adicionar produtos:"
      ],
      "metadata": {
        "id": "XaAWsLz6kn9C"
      }
    },
    {
      "cell_type": "code",
      "source": [],
      "metadata": {
        "id": "TlhcoLbojVtp"
      },
      "execution_count": null,
      "outputs": []
    },
    {
      "cell_type": "markdown",
      "source": [
        "#Prática guiada"
      ],
      "metadata": {
        "id": "eVIprlpGlzjj"
      }
    },
    {
      "cell_type": "markdown",
      "source": [
        "Contagem regressiva com Loop"
      ],
      "metadata": {
        "id": "5CvrUTS7X_lF"
      }
    },
    {
      "cell_type": "code",
      "source": [],
      "metadata": {
        "id": "_YGgeRGtl9RW"
      },
      "execution_count": null,
      "outputs": []
    },
    {
      "cell_type": "markdown",
      "source": [
        "Contagem regressiva com função recursiva"
      ],
      "metadata": {
        "id": "UYiYCFdel9vA"
      }
    },
    {
      "cell_type": "code",
      "source": [],
      "metadata": {
        "id": "8SkfOBN0mBKX"
      },
      "execution_count": null,
      "outputs": []
    }
  ]
}