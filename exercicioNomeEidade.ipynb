{
  "nbformat": 4,
  "nbformat_minor": 0,
  "metadata": {
    "colab": {
      "provenance": [],
      "authorship_tag": "ABX9TyOo54S4/tscWoKF3KPU40FX",
      "include_colab_link": true
    },
    "kernelspec": {
      "name": "python3",
      "display_name": "Python 3"
    },
    "language_info": {
      "name": "python"
    }
  },
  "cells": [
    {
      "cell_type": "markdown",
      "metadata": {
        "id": "view-in-github",
        "colab_type": "text"
      },
      "source": [
        "<a href=\"https://colab.research.google.com/github/SherlockLima/Exercises_Proz_portalTech/blob/main/exercicioNomeEidade.ipynb\" target=\"_parent\"><img src=\"https://colab.research.google.com/assets/colab-badge.svg\" alt=\"Open In Colab\"/></a>"
      ]
    },
    {
      "cell_type": "markdown",
      "source": [
        "Instruções do projeto\n",
        "\n",
        "Desenvolva um programa que recebe do usuário nome completo e ano de nascimento que seja entre 1922 e 2021.\n",
        "A partir dessas informações, o sistema mostrará o nome do usuário e a idade que completou, ou completará, no ano atual (2023).\n",
        "\n",
        "Caso o usuário não digite um número ou apareça um inválido no campo do ano, o sistema informará o erro e continuará perguntando até que um valor correto seja preenchido."
      ],
      "metadata": {
        "id": "q8x2tYNorfoa"
      }
    },
    {
      "cell_type": "code",
      "source": [
        "import datetime\n",
        "\n",
        "while True:\n",
        "    print('Insira seu nome completo:')\n",
        "    nome = input()\n",
        "    print('Insira o seu ano de nascimento (ex: aaaa):')\n",
        "    dataDeNascimento = input()\n",
        "    try:\n",
        "        dataDeNascimento = datetime.datetime.strptime(dataDeNascimento, '%Y')\n",
        "        if dataDeNascimento.year < 1922 or dataDeNascimento.year > 2023:\n",
        "            raise ValueError('Data de nascimento inválida') \n",
        "        idade = datetime.datetime.now().year - dataDeNascimento.year\n",
        "        if idade >= 18:\n",
        "            print(f'Olá, {nome}! Você tem {idade} anos.')\n",
        "        else:\n",
        "            print(f'Olá, {nome}! Você tem {idade} anos.')    \n",
        "        break\n",
        "    except ValueError as e:\n",
        "        print(str(e) + '. Por favor, tente novamente.')\n"
      ],
      "metadata": {
        "id": "LOkkxDKB1spq",
        "colab": {
          "base_uri": "https://localhost:8080/"
        },
        "outputId": "a2d577ce-9c38-449c-e420-36d040cbc9fd"
      },
      "execution_count": 38,
      "outputs": [
        {
          "name": "stdout",
          "output_type": "stream",
          "text": [
            "Digite seu nome completo: 333\n"
          ]
        }
      ]
    },
    {
      "cell_type": "code",
      "source": [
        "import datetime\n",
        "\n",
        "while True:\n",
        "    print('Digite seu nome completo:')\n",
        "    nome = input()\n",
        "    if not nome.isalpha():\n",
        "        print('O nome deve conter apenas letras. Por favor, tente novamente.')\n",
        "        continue\n",
        "    print('Digite o seu ano de nascimento (ex: aaaa):')\n",
        "    dataDeNascimento = input()\n",
        "    try:\n",
        "        dataDeNascimento = datetime.datetime.strptime(dataDeNascimento, '%Y')\n",
        "        if dataDeNascimento.year < 1922 or dataDeNascimento.year > 2023:\n",
        "            raise ValueError('Data de nascimento inválida') \n",
        "        idade = datetime.datetime.now().year - dataDeNascimento.year\n",
        "        if idade >= 18:\n",
        "            print(f'Olá, {nome}! Você tem {idade} anos.')\n",
        "        else:\n",
        "            print(f'Olá, {nome}! Você tem {idade} anos.')    \n",
        "        break\n",
        "    except ValueError as e:\n",
        "        print(str(e) + '. Por favor, tente novamente.')\n"
      ],
      "metadata": {
        "id": "eo-i5_G77XnO"
      },
      "execution_count": null,
      "outputs": []
    }
  ]
}